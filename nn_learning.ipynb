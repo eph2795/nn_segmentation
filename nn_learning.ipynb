{
 "cells": [
  {
   "cell_type": "code",
   "execution_count": 1,
   "metadata": {
    "collapsed": true,
    "deletable": true,
    "editable": true,
    "scrolled": true
   },
   "outputs": [],
   "source": [
    "import os\n",
    "import time\n",
    "import lmdb\n",
    "from itertools import chain\n",
    "\n",
    "from joblib import dump\n",
    "\n",
    "import matplotlib.pyplot as plt\n",
    "from IPython import display\n",
    "\n",
    "import numpy as np\n",
    "\n",
    "from sklearn.utils import shuffle\n",
    "from sklearn.model_selection import train_test_split\n",
    "\n",
    "import theano\n",
    "import theano.tensor as T\n",
    "import lasagne.layers\n",
    "import lasagne.nonlinearities \n",
    "\n",
    "from tqdm import tqdm_notebook\n",
    "\n",
    "from nn_utils import build_UNet, iterate_minibatches\n",
    "from train_data_preparation import prepare_data, extract_random_patches, extract_grid_patches"
   ]
  },
  {
   "cell_type": "code",
   "execution_count": 2,
   "metadata": {
    "collapsed": true,
    "deletable": true,
    "editable": true
   },
   "outputs": [],
   "source": [
    "patch_size = 64\n",
    "random_state = 42\n",
    "n_classes = 2\n",
    "\n",
    "grid_patches_params = {\n",
    "    'patch_size': patch_size,\n",
    "    'h_patches_number': 12,\n",
    "    'w_patches_number': 12,\n",
    "}"
   ]
  },
  {
   "cell_type": "code",
   "execution_count": 3,
   "metadata": {
    "collapsed": true,
    "deletable": true,
    "editable": true
   },
   "outputs": [],
   "source": [
    "stack_path = '/home/efim/study/10 semester/course work/all_data/binary_data'\n",
    "path_X = 'NLM'\n",
    "path_Y = 'CAC'"
   ]
  },
  {
   "cell_type": "code",
   "execution_count": 4,
   "metadata": {
    "collapsed": false,
    "deletable": true,
    "editable": true,
    "scrolled": true
   },
   "outputs": [
    {
     "data": {
      "application/vnd.jupyter.widget-view+json": {
       "model_id": "51b2eaf41dbb4ec6b4aee2d150a299e6"
      }
     },
     "metadata": {},
     "output_type": "display_data"
    },
    {
     "name": "stdout",
     "output_type": "stream",
     "text": [
      "\n"
     ]
    }
   ],
   "source": [
    "stack_name = 'Urna_30'\n",
    "\n",
    "prepare_data(\n",
    "    os.path.join(stack_path, stack_name, path_X),\n",
    "    os.path.join(stack_path, stack_name, path_Y),\n",
    "    random_state, extract_grid_patches, grid_patches_params, 1\n",
    ")"
   ]
  },
  {
   "cell_type": "code",
   "execution_count": 5,
   "metadata": {
    "collapsed": false,
    "deletable": true,
    "editable": true
   },
   "outputs": [
    {
     "name": "stdout",
     "output_type": "stream",
     "text": [
      "{'max_readers': 126L, 'map_size': 2096377856L, 'last_pgno': 511810L, 'num_readers': 1L, 'map_addr': 0L, 'last_txnid': 1L}\n",
      "102240\n"
     ]
    }
   ],
   "source": [
    "env = lmdb.open('../output_data/storage/input_images.lmdb')\n",
    "print(env.info())\n",
    "N = env.stat()[\"entries\"]\n",
    "print(N)\n",
    "env.close()"
   ]
  },
  {
   "cell_type": "code",
   "execution_count": 6,
   "metadata": {
    "collapsed": true,
    "deletable": true,
    "editable": true
   },
   "outputs": [],
   "source": [
    "input_env = lmdb.open('../output_data/storage/input_images.lmdb')\n",
    "labeled_env = lmdb.open('../output_data/storage/labeled_images.lmdb')\n",
    "input_transaction = input_env.begin()\n",
    "labeled_transaction = labeled_env.begin()"
   ]
  },
  {
   "cell_type": "code",
   "execution_count": 7,
   "metadata": {
    "collapsed": true,
    "deletable": true,
    "editable": true
   },
   "outputs": [],
   "source": [
    "def get(transaction, _id, shape, dtype):\n",
    "    _id = '{:06}'.format(_id)\n",
    "    buf = transaction.get(_id.encode('ascii'))\n",
    "    img = np.frombuffer(buf, dtype).reshape(shape)\n",
    "    return img"
   ]
  },
  {
   "cell_type": "code",
   "execution_count": 8,
   "metadata": {
    "collapsed": true,
    "deletable": true,
    "editable": true
   },
   "outputs": [],
   "source": [
    "def get_samples(input_transaction, labeled_transaction, ids, shape):\n",
    "    X, Y = [], []\n",
    "    for _id in ids:\n",
    "        X.append(get(input_transaction, _id, shape, np.float32))\n",
    "        Y.append(get(labeled_transaction, _id, shape, np.int8))\n",
    "    return np.concatenate(X), np.concatenate(Y)"
   ]
  },
  {
   "cell_type": "code",
   "execution_count": 9,
   "metadata": {
    "collapsed": true,
    "deletable": true,
    "editable": true
   },
   "outputs": [],
   "source": [
    "ids = np.arange(N)"
   ]
  },
  {
   "cell_type": "code",
   "execution_count": 10,
   "metadata": {
    "collapsed": true,
    "deletable": true,
    "editable": true
   },
   "outputs": [],
   "source": [
    "train_ids = ids[: 5*N//6]\n",
    "#test_ids = ids[1*N/3 : 2*N/3]\n",
    "val_ids = ids[5*N//6:]"
   ]
  },
  {
   "cell_type": "code",
   "execution_count": 11,
   "metadata": {
    "collapsed": true,
    "deletable": true,
    "editable": true
   },
   "outputs": [],
   "source": [
    "np.random.seed(random_state)"
   ]
  },
  {
   "cell_type": "code",
   "execution_count": 12,
   "metadata": {
    "collapsed": true,
    "deletable": true,
    "editable": true
   },
   "outputs": [],
   "source": [
    "input_channels = 1\n",
    "base_n_filters = 32\n",
    "learning_rate = 1e-3\n",
    "learning_rate_decay = 0.5\n",
    "alpha = 1\n",
    "smooth_const = 1e-5\n",
    "nonlinearity = lasagne.nonlinearities.elu\n",
    "num_epochs = 6\n",
    "batch_size = 128"
   ]
  },
  {
   "cell_type": "code",
   "execution_count": 13,
   "metadata": {
    "collapsed": false,
    "deletable": true,
    "editable": true
   },
   "outputs": [
    {
     "name": "stderr",
     "output_type": "stream",
     "text": [
      "/home/efim/study/10 semester/reinforcement learning/AgentNet/src/lasagne/lasagne/layers/pool.py:266: UserWarning: DEPRECATION: the 'ds' parameter is not going to exist anymore as it is going to be replaced by the parameter 'ws'.\n",
      "  mode=self.mode,\n",
      "/home/efim/study/10 semester/reinforcement learning/AgentNet/src/lasagne/lasagne/layers/pool.py:266: UserWarning: DEPRECATION: the 'st' parameter is not going to exist anymore as it is going to be replaced by the parameter 'stride'.\n",
      "  mode=self.mode,\n",
      "/home/efim/study/10 semester/reinforcement learning/AgentNet/src/lasagne/lasagne/layers/pool.py:266: UserWarning: DEPRECATION: the 'padding' parameter is not going to exist anymore as it is going to be replaced by the parameter 'pad'.\n",
      "  mode=self.mode,\n"
     ]
    }
   ],
   "source": [
    "input_image = T.tensor4('input')\n",
    "#target = T.matrix('output', dtype='int64')\n",
    "target = T.ivector('output')\n",
    "\n",
    "net = build_UNet(n_input_channels=input_channels, BATCH_SIZE=None, num_output_classes=n_classes,\n",
    "                 pad='same', nonlinearity=nonlinearity,\n",
    "                 input_dim=(patch_size, patch_size), base_n_filters=base_n_filters, do_dropout=True)\n",
    "\n",
    "predictions = lasagne.layers.get_output(net['output_flattened'], input_image)\n",
    "get_predictions = theano.function([input_image], predictions)"
   ]
  },
  {
   "cell_type": "code",
   "execution_count": 14,
   "metadata": {
    "collapsed": true,
    "deletable": true,
    "editable": true
   },
   "outputs": [],
   "source": [
    "net_weights = lasagne.layers.get_all_params(net['output_flattened'], trainable=True)"
   ]
  },
  {
   "cell_type": "code",
   "execution_count": 15,
   "metadata": {
    "collapsed": true,
    "deletable": true,
    "editable": true
   },
   "outputs": [],
   "source": [
    "learning_rate_t = T.scalar('learning_rate', dtype='float32')\n",
    "alpha_t = T.scalar('alpha', dtype='float32')\n",
    "smooth_const_t = T.scalar('smooth_const', dtype='float32')"
   ]
  },
  {
   "cell_type": "code",
   "execution_count": 16,
   "metadata": {
    "collapsed": true,
    "deletable": true,
    "editable": true
   },
   "outputs": [],
   "source": [
    "#smooth_iou = (predictions[:, 1] * target / (predictions[:, 1] + target - predictions[:, 1] * target)).mean()\n",
    "reshaped_predictions = predictions[:, 1].reshape([-1, patch_size * patch_size])\n",
    "reshaped_target = target.reshape([-1, patch_size * patch_size])\n",
    "intersection =  (reshaped_predictions * reshaped_target).sum(axis=[1])\n",
    "smooth_iou = ((2 * intersection + smooth_const_t)\n",
    "    / (reshaped_predictions.sum(axis=[1]) + reshaped_target.sum(axis=[1]) + smooth_const_t)).mean()\n",
    "\n",
    "train_loss = \\\n",
    "    lasagne.objectives.categorical_crossentropy(predictions, target).mean() \n",
    "# \\\n",
    "# - alpha_t * T.log(smooth_iou)\n",
    "\n",
    "log_loss = lasagne.objectives.categorical_crossentropy(predictions, target).mean()\n",
    "\n",
    "iou_loss = smooth_iou\n",
    "\n",
    "acc_loss = lasagne.objectives.categorical_accuracy(predictions, target).mean()"
   ]
  },
  {
   "cell_type": "code",
   "execution_count": 17,
   "metadata": {
    "collapsed": true,
    "deletable": true,
    "editable": true
   },
   "outputs": [],
   "source": [
    "updates = lasagne.updates.adam(train_loss, net_weights, learning_rate_t)"
   ]
  },
  {
   "cell_type": "code",
   "execution_count": 18,
   "metadata": {
    "collapsed": false,
    "deletable": true,
    "editable": true
   },
   "outputs": [],
   "source": [
    "# train_function = theano.function(\n",
    "#     [\n",
    "#         input_image, \n",
    "#         target, \n",
    "#         learning_rate_t, \n",
    "#         alpha_t, \n",
    "#         smooth_const_t\n",
    "#     ], train_loss, updates=updates)\n",
    "#cum_loss_function = theano.function([input_image, target, alpha_t, smooth_const_t], train_loss)\n",
    "train_function = theano.function(\n",
    "    [\n",
    "        input_image, \n",
    "        target, \n",
    "        learning_rate_t, \n",
    "    ], train_loss, updates=updates)\n",
    "cum_loss_function = theano.function([input_image, target], train_loss)\n",
    "log_loss_function = theano.function([input_image, target], log_loss)\n",
    "iou_loss_function = theano.function([input_image, target, smooth_const_t], iou_loss)\n",
    "acc_loss_function = theano.function([input_image, target], acc_loss)"
   ]
  },
  {
   "cell_type": "code",
   "execution_count": null,
   "metadata": {
    "collapsed": true,
    "deletable": true,
    "editable": true
   },
   "outputs": [],
   "source": []
  },
  {
   "cell_type": "code",
   "execution_count": 19,
   "metadata": {
    "collapsed": true,
    "deletable": true,
    "editable": true
   },
   "outputs": [],
   "source": [
    "try:\n",
    "    os.mkdir('../output_data/predictions')\n",
    "except OSError:\n",
    "    pass"
   ]
  },
  {
   "cell_type": "code",
   "execution_count": 20,
   "metadata": {
    "collapsed": true,
    "deletable": true,
    "editable": true
   },
   "outputs": [],
   "source": [
    "weights_dir = '../output_data/weights/Urna30_weights'\n",
    "try:\n",
    "    os.mkdir(weights_dir)\n",
    "except OSError:\n",
    "    pass"
   ]
  },
  {
   "cell_type": "code",
   "execution_count": 21,
   "metadata": {
    "collapsed": true,
    "deletable": true,
    "editable": true
   },
   "outputs": [],
   "source": [
    "def apply_on_batches(ids, functions, params, results, epoch, validation_step, limit, iterations_name):\n",
    "    for i, batch_ids in enumerate(iterate_minibatches(ids, batch_size)):\n",
    "        inputs, targets = get_samples(\n",
    "            input_transaction, \n",
    "            labeled_transaction, \n",
    "            batch_ids, \n",
    "            (1, input_channels, patch_size, patch_size)\n",
    "        )\n",
    "        targets = targets.flatten()\n",
    "        for function, param, result in zip(functions, params, results):\n",
    "            result.append(function(inputs, targets, *param))\n",
    "        if i % validation_step == 0:\n",
    "            print('    err on {} batch {}: {}'.format(iterations_name, i, results[0][-1]))\n",
    "            if iterations_name == 'validation':\n",
    "                dump_predictions(get_predictions, inputs, targets, '../output_data/predictions/epoch{}'.format(epoch), i)\n",
    "        if i == limit:\n",
    "            break"
   ]
  },
  {
   "cell_type": "code",
   "execution_count": 22,
   "metadata": {
    "collapsed": true,
    "deletable": true,
    "editable": true
   },
   "outputs": [],
   "source": [
    "def dump_predictions(predictor, inputs, targets, path, batch_number):\n",
    "    try:\n",
    "        os.mkdir(path.format(epoch))\n",
    "    except OSError:\n",
    "        pass\n",
    "    N = inputs.shape[0]\n",
    "    #prediction = predictor(inputs).argmax(axis=1).reshape(N, patch_size, patch_size)\n",
    "    prediction = predictor(inputs)[:, 1].reshape(N, patch_size, patch_size)\n",
    "    targets = targets.reshape((N, patch_size, patch_size))\n",
    "\n",
    "    for j in range(N):\n",
    "        fig = plt.figure(figsize=(18, 6))\n",
    "        \n",
    "        ax1 = plt.subplot(1, 3, 1)\n",
    "        ax1.imshow(inputs[j, 0], cmap='gray')\n",
    "        \n",
    "        ax2 = plt.subplot(1, 3, 2)\n",
    "        prediction[j, 0, 0] = 0\n",
    "        prediction[j, patch_size - 1, patch_size - 1] = 1\n",
    "        ax2.imshow(prediction[j], cmap='gray')\n",
    "        \n",
    "        ax3 = plt.subplot(1, 3, 3)\n",
    "        targets[j, 0, 0] = 0\n",
    "        targets[j, patch_size - 1, patch_size - 1] = 1\n",
    "        ax3.imshow(targets[j], cmap='gray')\n",
    "    \n",
    "        plt.savefig(os.path.join(path, 'batch{}_{}.png'.format(batch_number, j)))\n",
    "        plt.close(fig)"
   ]
  },
  {
   "cell_type": "code",
   "execution_count": 23,
   "metadata": {
    "collapsed": true,
    "deletable": true,
    "editable": true
   },
   "outputs": [],
   "source": [
    "plot_path = '../output_data/learning_progress.png'\n",
    "\n",
    "\n",
    "def _get_loss_lists(epoch, batch_per_epoch, loss):\n",
    "    y_batch = list(chain(*loss))\n",
    "    y_epoch = []\n",
    "    for i in range(epoch + 1):\n",
    "        y = np.mean(y_batch[i*batch_per_epoch : (i+1)*batch_per_epoch])\n",
    "        y_epoch += [y] * batch_per_epoch\n",
    "    x = np.arange(len(y_batch))\n",
    "    return x, y_batch, y_epoch\n",
    "\n",
    "\n",
    "def plot_learning_progress(epoch, train_loss, val_log_loss, val_iou_loss, val_acc_loss):\n",
    "    plt.close('all')\n",
    "    \n",
    "    fig = plt.figure(figsize=(16, 16))\n",
    "\n",
    "    ax1 = plt.subplot(221)\n",
    "    x, y_batch, y_epoch = _get_loss_lists(epoch, len(train_loss[-1]), train_loss)\n",
    "    l1, = ax1.plot(x, y_batch)\n",
    "    l2, = ax1.plot(x, y_epoch)\n",
    "    ax1.set_ylim([1e-10, 10])\n",
    "    ax1.set_yscale('log')\n",
    "    ax1.set_title('train loss')\n",
    "    \n",
    "    ax2 = plt.subplot(222)\n",
    "    x, y_batch, y_epoch = _get_loss_lists(epoch, len(val_log_loss[-1]), val_log_loss) \n",
    "    ax2.plot(x, y_batch)\n",
    "    ax2.plot(x, y_epoch)\n",
    "    ax2.set_ylim([1e-10, 10])\n",
    "    ax2.set_yscale('log')\n",
    "    ax2.set_title('validation log loss')\n",
    "    \n",
    "    ax3 = plt.subplot(223)\n",
    "    x, y_batch, y_epoch = _get_loss_lists(epoch, len(val_iou_loss[-1]), val_iou_loss)\n",
    "    ax3.plot(x, y_batch)\n",
    "    ax3.plot(x, y_epoch)\n",
    "    ax3.set_ylim([0, 1])\n",
    "    ax3.set_title('validation approximated iou')\n",
    "    \n",
    "    ax4 = plt.subplot(224)\n",
    "    x, y_batch, y_epoch = _get_loss_lists(epoch, len(val_acc_loss[-1]), val_acc_loss)\n",
    "    ax4.plot(x, y_batch)\n",
    "    ax4.plot(x, y_epoch)\n",
    "    ax4.set_ylim([0, 1])\n",
    "    ax4.set_title('validation accuracy')\n",
    "    \n",
    "    fig.legend((l1, l2), ('Loss by batch', 'Loss by epoch'), 'upper left')\n",
    "    display.display(fig)\n",
    "    plt.savefig(plot_path)"
   ]
  },
  {
   "cell_type": "code",
   "execution_count": null,
   "metadata": {
    "collapsed": false,
    "deletable": true,
    "editable": true,
    "scrolled": false
   },
   "outputs": [
    {
     "name": "stdout",
     "output_type": "stream",
     "text": [
      "Epoch 1 of 6 took 35785.014s\n",
      "  training loss (in-iteration):\t\t0.033788\n",
      "  validation loss:\t\t0.02\n"
     ]
    },
    {
     "data": {
      "image/png": "[encoded data removed]",
      "text/plain": [
       "<matplotlib.figure.Figure at 0x7f2fc2a25790>"
      ]
     },
     "metadata": {},
     "output_type": "display_data"
    },
    {
     "name": "stdout",
     "output_type": "stream",
     "text": [
      "    err on train batch 0: 0.0198274834001\n",
      "    err on train batch 20: 0.0197854134221\n",
      "    err on train batch 40: 0.0200264011767\n",
      "    err on train batch 60: 0.0202571292039\n",
      "    err on train batch 80: 0.019364490315\n",
      "    err on train batch 100: 0.0192086240256\n",
      "    err on train batch 120: 0.0192935790172\n",
      "    err on train batch 140: 0.0197346578938\n",
      "    err on train batch 160: 0.0204806728981\n",
      "    err on train batch 180: 0.0201046127523\n",
      "    err on train batch 200: 0.0216490569003\n",
      "    err on train batch 220: 0.019323849108\n",
      "    err on train batch 240: 0.0205049091752\n",
      "    err on train batch 260: 0.0191253347196\n",
      "    err on train batch 280: 0.0191719291478\n",
      "    err on train batch 300: 0.0199448202864\n"
     ]
    }
   ],
   "source": [
    "train_loss = []\n",
    "val_cum_loss = []\n",
    "val_log_loss = []\n",
    "val_iou_loss = []\n",
    "val_acc_loss = []\n",
    "\n",
    "for epoch in range(num_epochs):\n",
    "    start_time = time.time()\n",
    "    \n",
    "    train_loss.append([])\n",
    "    apply_on_batches(\n",
    "        ids=train_ids, \n",
    "        functions=[train_function], \n",
    "        results=[train_loss[-1]], \n",
    "        params=[\n",
    "            (\n",
    "                np.float32(learning_rate), \n",
    "#                 np.float32(alpha), \n",
    "#                 np.float32(smooth_const),\n",
    "            )\n",
    "        ],\n",
    "        epoch=epoch, \n",
    "        validation_step=20, \n",
    "        limit=-1,\n",
    "        iterations_name='train'\n",
    "    )\n",
    "    \n",
    "    val_cum_loss.append([])\n",
    "    val_log_loss.append([])\n",
    "    val_iou_loss.append([])\n",
    "    val_acc_loss.append([])\n",
    "    apply_on_batches(\n",
    "        ids=val_ids, \n",
    "        functions=[\n",
    "            cum_loss_function, log_loss_function, iou_loss_function, acc_loss_function\n",
    "        ], \n",
    "        results=[\n",
    "            val_cum_loss[-1], val_log_loss[-1], val_iou_loss[-1], val_acc_loss[-1]\n",
    "        ], \n",
    "        params=[\n",
    "#             (np.float32(alpha), np.float32(smooth_const)), \n",
    "            (),\n",
    "            (), \n",
    "            (np.float32(smooth_const), ), \n",
    "            ()\n",
    "        ], \n",
    "        epoch=epoch, \n",
    "        validation_step=20, \n",
    "        limit=-1,\n",
    "        iterations_name='validation'\n",
    "    )\n",
    "    learning_rate *= learning_rate_decay\n",
    "    \n",
    "    display.clear_output(wait=True)\n",
    "\n",
    "    print(\"Epoch {} of {} took {:.3f}s\".format(\n",
    "        epoch + 1, num_epochs, time.time() - start_time))\n",
    "\n",
    "    print(\"  training loss (in-iteration):\\t\\t{:.6f}\".format(np.mean(train_loss[epoch])))\n",
    "    print(\"  validation loss:\\t\\t{:.2f}\".format(np.mean(val_cum_loss[epoch])))\n",
    "    \n",
    "    plot_learning_progress(epoch, train_loss, val_log_loss, val_iou_loss, val_acc_loss)\n",
    "\n",
    "    dump(\n",
    "        lasagne.layers.get_all_param_values(net['output_flattened']), \n",
    "        os.path.join(weights_dir, 'UNet_params_ep{:03}.jbl'.format(epoch))\n",
    "    )"
   ]
  },
  {
   "cell_type": "code",
   "execution_count": null,
   "metadata": {
    "collapsed": true,
    "deletable": true,
    "editable": true
   },
   "outputs": [],
   "source": []
  },
  {
   "cell_type": "code",
   "execution_count": null,
   "metadata": {
    "collapsed": true,
    "deletable": true,
    "editable": true
   },
   "outputs": [],
   "source": [
    "# 1. Сделать график обучения и ошибки по батчам/эпохам\n",
    "# 2. Сделать уменьшающийся learning rate\n",
    "# 3. Сделать веса классов в loss\n",
    "# 4. Добавить IoU в loss + слежение в процессе обучения\n",
    "# 5. Добавить регуляризацию в loss"
   ]
  },
  {
   "cell_type": "code",
   "execution_count": null,
   "metadata": {
    "collapsed": true,
    "deletable": true,
    "editable": true
   },
   "outputs": [],
   "source": []
  }
 ],
 "metadata": {
  "kernelspec": {
   "display_name": "Python 2",
   "language": "python",
   "name": "python2"
  },
  "language_info": {
   "codemirror_mode": {
    "name": "ipython",
    "version": 2
   },
   "file_extension": ".py",
   "mimetype": "text/x-python",
   "name": "python",
   "nbconvert_exporter": "python",
   "pygments_lexer": "ipython2",
   "version": "2.7.12"
  }
 },
 "nbformat": 4,
 "nbformat_minor": 2
}
