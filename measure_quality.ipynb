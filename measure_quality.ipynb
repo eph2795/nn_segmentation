{
 "cells": [
  {
   "cell_type": "code",
   "execution_count": 1,
   "metadata": {},
   "outputs": [],
   "source": [
    "import os\n",
    "import time\n",
    "\n",
    "from joblib import dump, load\n",
    "\n",
    "import matplotlib.pyplot as plt\n",
    "from IPython import display\n",
    "\n",
    "from imageio import imread\n",
    "import numpy as np \n",
    "\n",
    "import theano.tensor as T\n",
    "import lasagne.layers\n",
    "import theano\n",
    "\n",
    "from tqdm import tqdm_notebook\n",
    "\n",
    "from nn_utils import build_UNet, iterate_minibatches\n",
    "from train_data_preparation import prepare_data, extract_random_patches, extract_grid_patches"
   ]
  },
  {
   "cell_type": "code",
   "execution_count": 2,
   "metadata": {},
   "outputs": [],
   "source": [
    "run processing_functions.ipynb"
   ]
  },
  {
   "cell_type": "code",
   "execution_count": 3,
   "metadata": {},
   "outputs": [],
   "source": [
    "patch_size = 64\n",
    "base_n_filters = 32\n",
    "learning_rate = 1e-3\n",
    "import lasagne.nonlinearities \n",
    "nonlinearity = lasagne.nonlinearities.elu\n",
    "num_epochs = 10\n",
    "batch_size = 128"
   ]
  },
  {
   "cell_type": "code",
   "execution_count": 4,
   "metadata": {},
   "outputs": [],
   "source": [
    "weights_name = '/home/efim/Study/nn_seg/output_data/weights/Kamchatka_basalt+ceramics_weights_iou/UNet_params_ep003.jbl'"
   ]
  },
  {
   "cell_type": "code",
   "execution_count": 5,
   "metadata": {},
   "outputs": [],
   "source": [
    "input_image = T.tensor4('input')\n",
    "target = T.matrix('output', dtype='int64')\n",
    "\n",
    "net = build_UNet(n_input_channels=1, BATCH_SIZE=None, num_output_classes=2,\n",
    "                 pad='same', nonlinearity=lasagne.nonlinearities.elu,\n",
    "                 input_dim=(patch_size, patch_size), base_n_filters=base_n_filters, do_dropout=True,\n",
    "                 weights=load(weights_name))\n",
    "predictions = lasagne.layers.get_output(net['output_flattened'], input_image)\n",
    "get_predictions = theano.function([input_image], predictions)"
   ]
  },
  {
   "cell_type": "code",
   "execution_count": 6,
   "metadata": {},
   "outputs": [],
   "source": [
    "input_stack_path = '/home/efim/Study/nn_seg/binary_data/Urna_22/NLM'\n",
    "output_stack_path = '/home/efim/Study/nn_seg/binary_data/Urna_22/CAC'"
   ]
  },
  {
   "cell_type": "code",
   "execution_count": null,
   "metadata": {},
   "outputs": [],
   "source": [
    "%%time\n",
    "input_stack = []\n",
    "output_stack = []\n",
    "results = []\n",
    "for i, fname in enumerate(sorted(os.listdir(input_stack_path))):\n",
    "    input_img = imread(os.path.join(input_stack_path, fname))\n",
    "    input_stack.append(input_img.reshape(input_img.shape + (1, )))\n",
    "    \n",
    "    output_img = imread(os.path.join(output_stack_path, fname))\n",
    "    output_stack.append(output_img.reshape(output_img.shape + (1, )))\n",
    "    \n",
    "    prediction = predict_image(input_img, get_predictions, patch_size, n_input_channels=1)\n",
    "    prediction = prediction.reshape(prediction.shape + (1, ))\n",
    "    results.append(prediction)\n",
    "    if i > 2:\n",
    "        break\n",
    "        \n",
    "input_stack = np.concatenate(input_stack, axis=2)\n",
    "output_stack = np.concatenate(output_stack, axis=2)\n",
    "prediction = np.concatenate(results, axis=2)"
   ]
  },
  {
   "cell_type": "code",
   "execution_count": 8,
   "metadata": {},
   "outputs": [
    {
     "ename": "NameError",
     "evalue": "name 'prediction' is not defined",
     "output_type": "error",
     "traceback": [
      "\u001b[0;31m---------------------------------------------------------------------------\u001b[0m",
      "\u001b[0;31mNameError\u001b[0m                                 Traceback (most recent call last)",
      "\u001b[0;32m<ipython-input-8-0f5e966da19c>\u001b[0m in \u001b[0;36m<module>\u001b[0;34m()\u001b[0m\n\u001b[0;32m----> 1\u001b[0;31m \u001b[0mplt\u001b[0m\u001b[0;34m.\u001b[0m\u001b[0mimshow\u001b[0m\u001b[0;34m(\u001b[0m\u001b[0mprediction\u001b[0m\u001b[0;34m,\u001b[0m \u001b[0mcmap\u001b[0m\u001b[0;34m=\u001b[0m\u001b[0;34m'gray'\u001b[0m\u001b[0;34m)\u001b[0m\u001b[0;34m\u001b[0m\u001b[0m\n\u001b[0m",
      "\u001b[0;31mNameError\u001b[0m: name 'prediction' is not defined"
     ]
    }
   ],
   "source": [
    "plt.imshow(prediction, cmap='gray')"
   ]
  },
  {
   "cell_type": "code",
   "execution_count": null,
   "metadata": {},
   "outputs": [],
   "source": []
  },
  {
   "cell_type": "code",
   "execution_count": null,
   "metadata": {},
   "outputs": [],
   "source": []
  },
  {
   "cell_type": "code",
   "execution_count": null,
   "metadata": {},
   "outputs": [],
   "source": []
  }
 ],
 "metadata": {
  "kernelspec": {
   "display_name": "Python 3",
   "language": "python",
   "name": "python3"
  },
  "language_info": {
   "codemirror_mode": {
    "name": "ipython",
    "version": 3
   },
   "file_extension": ".py",
   "mimetype": "text/x-python",
   "name": "python",
   "nbconvert_exporter": "python",
   "pygments_lexer": "ipython3",
   "version": "3.5.2"
  }
 },
 "nbformat": 4,
 "nbformat_minor": 2
}
