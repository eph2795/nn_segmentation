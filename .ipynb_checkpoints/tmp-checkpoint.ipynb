{
 "cells": [
  {
   "cell_type": "code",
   "execution_count": 1,
   "metadata": {
    "collapsed": true,
    "deletable": true,
    "editable": true
   },
   "outputs": [],
   "source": [
    "import os\n",
    "import time\n",
    "from collections import OrderedDict\n",
    "from joblib import dump, load\n",
    "\n",
    "import numpy as np\n",
    "from scipy.misc import imread, imsave, imresize\n",
    "\n",
    "from sklearn.utils import shuffle\n",
    "from sklearn.model_selection import train_test_split\n",
    "\n",
    "import matplotlib.pyplot as plt\n",
    "import matplotlib.gridspec as gridspec\n",
    "from tqdm import tqdm\n",
    "\n",
    "import theano.tensor as T\n",
    "import lasagne.layers\n",
    "import theano\n",
    "\n",
    "from nn_utils import build_UNet, iterate_minibatches"
   ]
  },
  {
   "cell_type": "code",
   "execution_count": 3,
   "metadata": {
    "collapsed": true,
    "deletable": true,
    "editable": true
   },
   "outputs": [],
   "source": [
    "run processing_functions.ipynb"
   ]
  },
  {
   "cell_type": "code",
   "execution_count": 69,
   "metadata": {
    "collapsed": true,
    "deletable": true,
    "editable": true
   },
   "outputs": [],
   "source": [
    "patch_size = 64\n",
    "base_n_filters = 32\n",
    "learning_rate = 1e-3\n",
    "import lasagne.nonlinearities \n",
    "nonlinearity = lasagne.nonlinearities.elu\n",
    "num_epochs = 10\n",
    "batch_size = 128"
   ]
  },
  {
   "cell_type": "code",
   "execution_count": 70,
   "metadata": {
    "collapsed": true,
    "deletable": true,
    "editable": true
   },
   "outputs": [],
   "source": [
    "learned_stack_name = 'Kamchatka_basalt+ceramics'\n",
    "weights_name = ''.join([learned_stack_name, '_weights/UNet_params_ep009.jbl'])"
   ]
  },
  {
   "cell_type": "code",
   "execution_count": 71,
   "metadata": {
    "collapsed": false,
    "deletable": true,
    "editable": true
   },
   "outputs": [],
   "source": [
    "input_image = T.tensor4('input')\n",
    "target = T.matrix('output', dtype='int64')\n",
    "\n",
    "net = build_UNet(n_input_channels=1, BATCH_SIZE=None, num_output_classes=2,\n",
    "                 pad='same', nonlinearity=lasagne.nonlinearities.elu,\n",
    "                 input_dim=(patch_size, patch_size), base_n_filters=base_n_filters, do_dropout=True,\n",
    "                 weights=load(weights_name))\n",
    "predictions = lasagne.layers.get_output(net['output_flattened'], input_image)\n",
    "get_predictions = theano.function([input_image], predictions)"
   ]
  },
  {
   "cell_type": "code",
   "execution_count": 72,
   "metadata": {
    "collapsed": true
   },
   "outputs": [],
   "source": [
    "try:\n",
    "    os.mkdir('results/' + learned_stack_name) \n",
    "except OSError:\n",
    "    pass"
   ]
  },
  {
   "cell_type": "code",
   "execution_count": 296,
   "metadata": {
    "collapsed": true,
    "deletable": true,
    "editable": true
   },
   "outputs": [],
   "source": [
    "path_to_data = '/home/efim/study/10 semester/course work/all_data/binary_data'\n",
    "stack_name = 'Urna_30'\n",
    "fname = 'stackkrig0499.bmp'"
   ]
  },
  {
   "cell_type": "code",
   "execution_count": 297,
   "metadata": {
    "collapsed": true,
    "deletable": true,
    "editable": true
   },
   "outputs": [],
   "source": [
    "path_X = os.path.join(path_to_data, stack_name, 'NLM', fname)\n",
    "path_Y = os.path.join(path_to_data, stack_name, 'CAC', fname)"
   ]
  },
  {
   "cell_type": "code",
   "execution_count": 298,
   "metadata": {
    "collapsed": false,
    "deletable": true,
    "editable": true
   },
   "outputs": [],
   "source": [
    "img = imread(path_X)\n",
    "label = imread(path_Y)"
   ]
  },
  {
   "cell_type": "code",
   "execution_count": null,
   "metadata": {
    "collapsed": false,
    "deletable": true,
    "editable": true
   },
   "outputs": [],
   "source": [
    "%%time\n",
    "prediction = predict_image(img, get_predictions, patch_size, n_input_channels=1)    "
   ]
  },
  {
   "cell_type": "code",
   "execution_count": null,
   "metadata": {
    "collapsed": false
   },
   "outputs": [],
   "source": [
    "prediction_thresh = np.where(prediction > 0.01, np.ones_like(label), np.zeros_like(label))"
   ]
  },
  {
   "cell_type": "code",
   "execution_count": null,
   "metadata": {
    "collapsed": false,
    "deletable": true,
    "editable": true
   },
   "outputs": [],
   "source": [
    "label_float = label.astype(np.float32) / 255"
   ]
  },
  {
   "cell_type": "code",
   "execution_count": null,
   "metadata": {
    "collapsed": false,
    "deletable": true,
    "editable": true
   },
   "outputs": [],
   "source": [
    "fig = plt.figure(figsize=(15,5))\n",
    "gs1 = gridspec.GridSpec(1, 3)\n",
    "gs1.update(wspace=0.025, hspace=0.05)\n",
    "\n",
    "ax1 = plt.subplot(gs1[0])\n",
    "ax2 = plt.subplot(gs1[1])\n",
    "ax3 = plt.subplot(gs1[2])\n",
    "ax1.axis('off')\n",
    "ax1.imshow(img, cmap='gray')\n",
    "ax2.axis('off')\n",
    "ax2.imshow(prediction, cmap='gray')\n",
    "ax3.axis('off')\n",
    "ax3.imshow(label, cmap='gray')\n",
    "\n",
    "ax1.text(0.5, 1.05, \"Source image\", size=14, ha=\"center\", \n",
    "         transform=ax1.transAxes)\n",
    "ax2.text(0.5, 1.05, \"Predicted labeling\", size=14, ha=\"center\", \n",
    "         transform=ax2.transAxes)\n",
    "ax3.text(0.5, 1.05, \"True labeling\", size=14, ha=\"center\", \n",
    "         transform=ax3.transAxes)\n",
    "MSE = ((label_float - prediction) ** 2).sum() / label.shape[0] / label.shape[1]\n",
    "minp = prediction.min()\n",
    "maxp = prediction.max()\n",
    "s = 'MSE: {},\\n min predicted probability: {},\\n max predicted probability: {}.'.format(MSE, minp, maxp)\n",
    "fig.text(0.5, -0.05, s, size=20, ha='center')\n",
    "plt.savefig('results/' + learned_stack_name + '/' + stack_name + '_' + fname.split('.')[0] + '.jpg')\n",
    "plt.show()"
   ]
  },
  {
   "cell_type": "code",
   "execution_count": null,
   "metadata": {
    "collapsed": true
   },
   "outputs": [],
   "source": []
  },
  {
   "cell_type": "code",
   "execution_count": null,
   "metadata": {
    "collapsed": true
   },
   "outputs": [],
   "source": []
  }
 ],
 "metadata": {
  "kernelspec": {
   "display_name": "Python 2",
   "language": "python",
   "name": "python2"
  },
  "language_info": {
   "codemirror_mode": {
    "name": "ipython",
    "version": 2
   },
   "file_extension": ".py",
   "mimetype": "text/x-python",
   "name": "python",
   "nbconvert_exporter": "python",
   "pygments_lexer": "ipython2",
   "version": "2.7.12"
  }
 },
 "nbformat": 4,
 "nbformat_minor": 2
}
