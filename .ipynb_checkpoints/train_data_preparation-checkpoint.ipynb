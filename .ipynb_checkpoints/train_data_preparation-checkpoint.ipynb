{
 "cells": [
  {
   "cell_type": "code",
   "execution_count": 1,
   "metadata": {
    "collapsed": false,
    "deletable": true,
    "editable": true
   },
   "outputs": [],
   "source": [
    "import os\n",
    "\n",
    "import tqdm\n",
    "import lmdb\n",
    "\n",
    "import numpy as np\n",
    "\n",
    "from scipy.misc import imread, imsave, imresize"
   ]
  },
  {
   "cell_type": "code",
   "execution_count": 2,
   "metadata": {
    "collapsed": true,
    "deletable": true,
    "editable": true
   },
   "outputs": [],
   "source": [
    "def labeled_img_preprocess_binary_case(image):\n",
    "    mask = np.where(image < 128, np.zeros_like(image), np.ones_like(image))\n",
    "    mask = mask.astype(np.int8)\n",
    "    return mask"
   ]
  },
  {
   "cell_type": "code",
   "execution_count": 3,
   "metadata": {
    "collapsed": true,
    "deletable": true,
    "editable": true
   },
   "outputs": [],
   "source": [
    "def input_img_preprocess(image):\n",
    "    image = image.astype(np.float32)\n",
    "    image = image / 255 - 0.5\n",
    "    return image"
   ]
  },
  {
   "cell_type": "code",
   "execution_count": 4,
   "metadata": {
    "collapsed": true,
    "deletable": true,
    "editable": true
   },
   "outputs": [],
   "source": [
    "def shapes_preprocess(img):\n",
    "    if img.ndim == 2:\n",
    "        img = img.reshape(img.shape + (1, ))\n",
    "    img = img.reshape((1, ) + img.shape) \n",
    "    img = img.transpose(0, 3, 1, 2)\n",
    "    return img"
   ]
  },
  {
   "cell_type": "code",
   "execution_count": 5,
   "metadata": {
    "collapsed": false,
    "deletable": true,
    "editable": true
   },
   "outputs": [],
   "source": [
    "def get_valid_patches(img_shape, patch_size, central_points):\n",
    "    start = central_points - patch_size / 2\n",
    "    end = start + patch_size\n",
    "    \n",
    "    mask = np.logical_and(start >= 0, end < np.array(img_shape))\n",
    "    mask = np.all(mask, axis=-1)\n",
    "    \n",
    "    return mask\n",
    "\n",
    "\n",
    "def extract_patches(input_img, labeled_img, n_classes=2, patch_size=64, class_patches_number=100):\n",
    "    X = []\n",
    "    Y = []\n",
    "    \n",
    "    for label in range(n_classes):\n",
    "        positions = np.argwhere(labeled_img == label)\n",
    "        \n",
    "        accepted_patches_mask = get_valid_patches(labeled_img.shape, patch_size, positions)\n",
    "        positions = positions[accepted_patches_mask][:class_patches_number]\n",
    "        np.random.shuffle(positions)\n",
    "        \n",
    "        for position in positions:\n",
    "            start = position - patch_size / 2\n",
    "            end = start + patch_size\n",
    "            \n",
    "            x = shapes_preprocess(\n",
    "                input_img[start[0]:end[0], start[1]:end[1]]\n",
    "            )\n",
    "            y = shapes_preprocess(\n",
    "                labeled_img[start[0]:end[0], start[1]:end[1]]\n",
    "            )\n",
    "            X.append(x)\n",
    "            Y.append(y)\n",
    "        \n",
    "    return X, Y"
   ]
  },
  {
   "cell_type": "code",
   "execution_count": 6,
   "metadata": {
    "collapsed": true,
    "deletable": true,
    "editable": true
   },
   "outputs": [],
   "source": [
    "def get_imgs_from_folder(fpath):\n",
    "    stack = []\n",
    "    for fname in sorted(os.listdir(fpath)):\n",
    "        img = imread(os.path.join(fpath, fname))\n",
    "        stack.append(img)\n",
    "    return stack"
   ]
  },
  {
   "cell_type": "code",
   "execution_count": 7,
   "metadata": {
    "collapsed": true,
    "deletable": true,
    "editable": true
   },
   "outputs": [],
   "source": [
    "def get_data(path_X, path_Y, n_classes, patch_size, class_patches_number):\n",
    "    X = get_imgs_from_folder(path_X)\n",
    "    Y = get_imgs_from_folder(path_Y)\n",
    "    \n",
    "    patches_X, patches_Y = [], []\n",
    "    for x, y in tqdm.tqdm_notebook(zip(X, Y)):\n",
    "        x = input_img_preprocess(x)\n",
    "        y = labeled_img_preprocess_binary_case(y)\n",
    "        subpatches_X, subpatches_Y = extract_patches(x, y, n_classes, patch_size, class_patches_number)\n",
    "        patches_X += subpatches_X\n",
    "        patches_Y += subpatches_Y\n",
    "        \n",
    "    X = np.concatenate(patches_X)\n",
    "    Y = np.concatenate(patches_Y)\n",
    "        \n",
    "    Y = Y.reshape(Y.shape[0], -1)\n",
    "    return X, Y"
   ]
  },
  {
   "cell_type": "code",
   "execution_count": 12,
   "metadata": {
    "collapsed": true,
    "deletable": true,
    "editable": true
   },
   "outputs": [],
   "source": [
    "def create_storage(name, data):\n",
    "    N = data.shape[0]\n",
    "    map_size = 4 * data.nbytes\n",
    "    env = lmdb.open(name, map_size=map_size)\n",
    "\n",
    "    with env.begin(write=True) as txn:\n",
    "        for i in range(N):\n",
    "            str_id = '{:08}'.format(i)\n",
    "            txn.put(str_id.encode('ascii'), data[i].tobytes())\n",
    "    return N"
   ]
  },
  {
   "cell_type": "code",
   "execution_count": null,
   "metadata": {
    "collapsed": true
   },
   "outputs": [],
   "source": [
    "def prepare_data(n_classes, patch_size, random_state, class_patches_number):\n",
    "    np.random.seed(random_state)\n",
    "    \n",
    "    path_X = '/home/efim/study/10 semester/course work/all_data/binary_data/ceramics/NLM'\n",
    "    path_Y = '/home/efim/study/10 semester/course work/all_data/binary_data/ceramics/CAC'\n",
    "    \n",
    "    X, Y = get_data(path_X, path_Y, n_classes, patch_size, class_patches_number)\n",
    "    \n",
    "    create_storage('input_images.lmdb', X)\n",
    "    N = create_storage('labeled_images.lmdb', Y)\n",
    "    \n",
    "    return N"
   ]
  }
 ],
 "metadata": {
  "kernelspec": {
   "display_name": "Python 2",
   "language": "python",
   "name": "python2"
  },
  "language_info": {
   "codemirror_mode": {
    "name": "ipython",
    "version": 2
   },
   "file_extension": ".py",
   "mimetype": "text/x-python",
   "name": "python",
   "nbconvert_exporter": "python",
   "pygments_lexer": "ipython2",
   "version": "2.7.12"
  }
 },
 "nbformat": 4,
 "nbformat_minor": 2
}
